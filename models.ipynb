{
 "cells": [
  {
   "cell_type": "markdown",
   "metadata": {},
   "source": [
    "Import needed modules"
   ]
  },
  {
   "cell_type": "code",
   "execution_count": 11,
   "metadata": {},
   "outputs": [],
   "source": [
    "from pymonntorch import *\n",
    "from matplotlib import pyplot as plt\n",
    "import numpy as np\n",
    "from timeRes import TimeResolution\n",
    "from current import *\n",
    "from models import *"
   ]
  },
  {
   "cell_type": "markdown",
   "metadata": {},
   "source": [
    "### LIF model"
   ]
  },
  {
   "cell_type": "markdown",
   "metadata": {},
   "source": [
    "$$\\tau\\frac{du}{dt}= -(u-u_{rest})+R.I(t)$$"
   ]
  },
  {
   "cell_type": "markdown",
   "metadata": {},
   "source": [
    "### ELIF model"
   ]
  },
  {
   "cell_type": "markdown",
   "metadata": {},
   "source": [
    "$$\\tau\\frac{du}{dt}= -(u-u_{rest})+\\Delta_{t} exp(\\frac{u-\\theta_{rh}}{\\Delta_{t}})+R.I(t)$$"
   ]
  },
  {
   "cell_type": "markdown",
   "metadata": {},
   "source": [
    "### AELIF model"
   ]
  },
  {
   "cell_type": "markdown",
   "metadata": {},
   "source": [
    "$$\\tau_{m}\\frac{du}{dt}= -(u-u_{rest})+\\Delta_{t} exp(\\frac{u-\\theta_{rh}}{\\Delta_{t}})-Rw+R.I(t)$$\n",
    "$$\\tau_{w}\\frac{dw}{dt}= a(u-u_{rest})-w+b\\tau_{w}\\sum_{t^{f}}^{}\\delta(t-t^{f})$$"
   ]
  },
  {
   "cell_type": "markdown",
   "metadata": {},
   "source": [
    "Analyzing models functionalities with different currents as stimuli"
   ]
  },
  {
   "cell_type": "markdown",
   "metadata": {},
   "source": [
    "constant current"
   ]
  },
  {
   "cell_type": "markdown",
   "metadata": {},
   "source": [
    "LIF"
   ]
  },
  {
   "cell_type": "markdown",
   "metadata": {},
   "source": [
    "lif_net = Network(behavior={1: TimeResolution()}, dtype=torch.float64)"
   ]
  }
 ],
 "metadata": {
  "kernelspec": {
   "display_name": "NS_env",
   "language": "python",
   "name": "python3"
  },
  "language_info": {
   "codemirror_mode": {
    "name": "ipython",
    "version": 3
   },
   "file_extension": ".py",
   "mimetype": "text/x-python",
   "name": "python",
   "nbconvert_exporter": "python",
   "pygments_lexer": "ipython3",
   "version": "3.9.13"
  }
 },
 "nbformat": 4,
 "nbformat_minor": 2
}
