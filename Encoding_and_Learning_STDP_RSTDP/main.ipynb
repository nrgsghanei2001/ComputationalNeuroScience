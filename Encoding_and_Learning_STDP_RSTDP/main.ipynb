{
 "cells": [
  {
   "cell_type": "code",
   "execution_count": 1,
   "metadata": {},
   "outputs": [],
   "source": [
    "import cv2\n",
    "import torch\n",
    "from Encoding import *"
   ]
  },
  {
   "cell_type": "code",
   "execution_count": 2,
   "metadata": {},
   "outputs": [
    {
     "name": "stdout",
     "output_type": "stream",
     "text": [
      "tensor([[0., 0., 0., 1., 0., 0., 1., 0., 0., 0., 1., 0., 0., 0., 1., 1.],\n",
      "        [1., 1., 0., 0., 0., 0., 1., 0., 0., 0., 1., 0., 0., 0., 1., 0.],\n",
      "        [0., 0., 0., 1., 0., 0., 1., 1., 0., 1., 1., 1., 1., 0., 1., 1.],\n",
      "        [1., 1., 1., 1., 0., 0., 1., 1., 0., 0., 1., 0., 1., 0., 1., 1.],\n",
      "        [0., 0., 1., 0., 0., 0., 0., 0., 0., 0., 1., 1., 1., 0., 1., 1.],\n",
      "        [1., 0., 0., 1., 0., 1., 1., 1., 1., 1., 0., 0., 0., 0., 1., 1.],\n",
      "        [0., 1., 0., 1., 1., 0., 1., 0., 0., 1., 1., 1., 0., 0., 0., 1.],\n",
      "        [0., 0., 0., 1., 0., 1., 1., 0., 1., 0., 1., 1., 0., 0., 1., 1.],\n",
      "        [0., 1., 1., 1., 0., 1., 1., 0., 0., 0., 0., 0., 1., 0., 1., 1.],\n",
      "        [1., 0., 0., 1., 0., 1., 1., 1., 0., 0., 0., 0., 0., 0., 1., 1.]])\n"
     ]
    }
   ],
   "source": [
    "img = cv2.imread('lena1.tif')\n",
    "img = cv2.resize(img, (4, 4))\n",
    "img = torch.from_numpy(img)\n",
    "img = img.sum(2)//3\n",
    "# ttfs = TimeToFirstSpikeEncoding(img, 100, 400)\n",
    "# spikes = ttfs.encode()\n",
    "# for i in range(spikes.shape[0]):\n",
    "#     for j in range(spikes.shape[1]):\n",
    "#         print(spikes[i][j].item(), end=\" \")\n",
    "#     print()\n",
    "\n",
    "ge = PoissonEncoder(img, 10)\n",
    "spikes = ge.encode()\n",
    "# ge = PositionEncoder(img, 10, 3)\n",
    "# spikes = ge.encode()\n",
    "# ge.encode()\n",
    "print(spikes)\n",
    "# ge = GaussianEncoding(10, 100, img)\n",
    "# ge.encode()\n"
   ]
  }
 ],
 "metadata": {
  "kernelspec": {
   "display_name": "NS_env",
   "language": "python",
   "name": "python3"
  },
  "language_info": {
   "codemirror_mode": {
    "name": "ipython",
    "version": 3
   },
   "file_extension": ".py",
   "mimetype": "text/x-python",
   "name": "python",
   "nbconvert_exporter": "python",
   "pygments_lexer": "ipython3",
   "version": "3.9.13"
  }
 },
 "nbformat": 4,
 "nbformat_minor": 2
}
