{
 "cells": [
  {
   "cell_type": "code",
   "execution_count": 1,
   "metadata": {},
   "outputs": [],
   "source": [
    "import cv2\n",
    "import torch\n",
    "from Encoding import *"
   ]
  },
  {
   "cell_type": "code",
   "execution_count": 2,
   "metadata": {},
   "outputs": [
    {
     "name": "stdout",
     "output_type": "stream",
     "text": [
      "torch.Size([20, 20])\n"
     ]
    },
    {
     "ename": "RuntimeError",
     "evalue": "expand(CPUBoolType{[20, 20]}, size=[400]): the number of sizes provided (1) must be greater or equal to the number of dimensions in the tensor (2)",
     "output_type": "error",
     "traceback": [
      "\u001b[1;31m---------------------------------------------------------------------------\u001b[0m",
      "\u001b[1;31mRuntimeError\u001b[0m                              Traceback (most recent call last)",
      "Cell \u001b[1;32mIn[2], line 6\u001b[0m\n\u001b[0;32m      4\u001b[0m img \u001b[38;5;241m=\u001b[39m img\u001b[38;5;241m.\u001b[39msum(\u001b[38;5;241m2\u001b[39m)\u001b[38;5;241m/\u001b[39m\u001b[38;5;241m/\u001b[39m\u001b[38;5;241m3\u001b[39m\n\u001b[0;32m      5\u001b[0m ttfs \u001b[38;5;241m=\u001b[39m TimeToFirstSpikeEncoding((\u001b[38;5;241m0\u001b[39m, \u001b[38;5;241m255\u001b[39m), img, \u001b[38;5;241m100\u001b[39m, \u001b[38;5;241m400\u001b[39m)\n\u001b[1;32m----> 6\u001b[0m spikes \u001b[38;5;241m=\u001b[39m \u001b[43mttfs\u001b[49m\u001b[38;5;241;43m.\u001b[39;49m\u001b[43mencode\u001b[49m\u001b[43m(\u001b[49m\u001b[43m)\u001b[49m\n\u001b[0;32m      7\u001b[0m \u001b[38;5;28mprint\u001b[39m(spikes[\u001b[38;5;241m90\u001b[39m])\n",
      "File \u001b[1;32md:\\uni\\ترم8\\علوم اعصاب محاسباتی\\projects\\project1\\P01\\Encoding_and_Learning_STDP_RSTDP\\Encoding.py:24\u001b[0m, in \u001b[0;36mTimeToFirstSpikeEncoding.encode\u001b[1;34m(self)\u001b[0m\n\u001b[0;32m     22\u001b[0m spikes \u001b[38;5;241m=\u001b[39m torch\u001b[38;5;241m.\u001b[39mTensor(\u001b[38;5;28mself\u001b[39m\u001b[38;5;241m.\u001b[39mtime, \u001b[38;5;28mself\u001b[39m\u001b[38;5;241m.\u001b[39mnum_neurons)\n\u001b[0;32m     23\u001b[0m \u001b[38;5;28;01mfor\u001b[39;00m i \u001b[38;5;129;01min\u001b[39;00m \u001b[38;5;28mrange\u001b[39m(\u001b[38;5;28mself\u001b[39m\u001b[38;5;241m.\u001b[39mtime):\n\u001b[1;32m---> 24\u001b[0m     \u001b[43mspikes\u001b[49m\u001b[43m[\u001b[49m\u001b[43mi\u001b[49m\u001b[43m]\u001b[49m \u001b[38;5;241m=\u001b[39m \u001b[38;5;28mself\u001b[39m\u001b[38;5;241m.\u001b[39mdata \u001b[38;5;241m==\u001b[39m i\n\u001b[0;32m     26\u001b[0m \u001b[38;5;28;01mreturn\u001b[39;00m spikes\n",
      "\u001b[1;31mRuntimeError\u001b[0m: expand(CPUBoolType{[20, 20]}, size=[400]): the number of sizes provided (1) must be greater or equal to the number of dimensions in the tensor (2)"
     ]
    }
   ],
   "source": [
    "img = cv2.imread('circles.tif')\n",
    "img = cv2.resize(img, (20, 20))\n",
    "img = torch.from_numpy(img)\n",
    "img = img.sum(2)//3\n",
    "ttfs = TimeToFirstSpikeEncoding((0, 255), img, 100, 400)\n",
    "spikes = ttfs.encode()\n",
    "print(spikes[90])"
   ]
  }
 ],
 "metadata": {
  "kernelspec": {
   "display_name": "NS_env",
   "language": "python",
   "name": "python3"
  },
  "language_info": {
   "codemirror_mode": {
    "name": "ipython",
    "version": 3
   },
   "file_extension": ".py",
   "mimetype": "text/x-python",
   "name": "python",
   "nbconvert_exporter": "python",
   "pygments_lexer": "ipython3",
   "version": "3.9.13"
  }
 },
 "nbformat": 4,
 "nbformat_minor": 2
}
